{
 "cells": [
  {
   "cell_type": "markdown",
   "id": "fcee933f",
   "metadata": {},
   "source": [
    "# Data Science Tools and Ecosystem"
   ]
  },
  {
   "cell_type": "markdown",
   "id": "8eaa73f9",
   "metadata": {},
   "source": [
    "In this notebook, Data Science Tools and Ecosystem are summarized."
   ]
  },
  {
   "cell_type": "markdown",
   "id": "a87f97f5",
   "metadata": {},
   "source": [
    "**Objectives** \n",
    "* List popular languages for Data Science \n",
    "* List popular libraries used by Data Scientists \n",
    "* Learn how to write arithmetic expression \n",
    "* Learn how to create tables in Jupyter notebook"
   ]
  },
  {
   "cell_type": "markdown",
   "id": "4a1d7ccc",
   "metadata": {},
   "source": [
    "Some of the popular languages that Data Scientists use are:\n",
    "  1. Python\n",
    "  2. R\n",
    "  3. SQL\n",
    "  4. Scala \n",
    "  5. Java \n",
    "  6. C++"
   ]
  },
  {
   "cell_type": "markdown",
   "id": "65824112",
   "metadata": {},
   "source": [
    "some of the commonly used libraries used by Data Scientists include:\n",
    "1. scikit-learn \n",
    "2. TensorFlow \n",
    "3. Apache Spark"
   ]
  },
  {
   "cell_type": "markdown",
   "id": "cce35bae",
   "metadata": {},
   "source": [
    "|Data Science Tools | \n",
    "|-------------------|\n",
    "| Jupyter Notebooks |\n",
    "|     RStudio       |\n",
    "|   Visual Studio   |"
   ]
  },
  {
   "cell_type": "markdown",
   "id": "ac6d9970",
   "metadata": {},
   "source": [
    "### Below are a few examples of evaluating arithmetic expressions in Python\n",
    "###### 4+7 \n",
    "###### (11*5)/5\n",
    "###### 150+8-9"
   ]
  },
  {
   "cell_type": "code",
   "execution_count": 1,
   "id": "d7fb6081",
   "metadata": {},
   "outputs": [
    {
     "data": {
      "text/plain": [
       "17"
      ]
     },
     "execution_count": 1,
     "metadata": {},
     "output_type": "execute_result"
    }
   ],
   "source": [
    "#This a simple arithmetic expression to mutiply then add integers\n",
    "(3*4)+5"
   ]
  },
  {
   "cell_type": "code",
   "execution_count": 2,
   "id": "1b3837fa",
   "metadata": {},
   "outputs": [
    {
     "data": {
      "text/plain": [
       "3.3333333333333335"
      ]
     },
     "execution_count": 2,
     "metadata": {},
     "output_type": "execute_result"
    }
   ],
   "source": [
    "# This will convert 200 minutes to hours by diving by 60\n",
    "200/60"
   ]
  },
  {
   "cell_type": "markdown",
   "id": "162f02fc",
   "metadata": {},
   "source": [
    "## Author\n",
    "Godsway Awuah"
   ]
  },
  {
   "cell_type": "code",
   "execution_count": null,
   "id": "3c737719",
   "metadata": {},
   "outputs": [],
   "source": []
  }
 ],
 "metadata": {
  "kernelspec": {
   "display_name": "Python 3 (ipykernel)",
   "language": "python",
   "name": "python3"
  },
  "language_info": {
   "codemirror_mode": {
    "name": "ipython",
    "version": 3
   },
   "file_extension": ".py",
   "mimetype": "text/x-python",
   "name": "python",
   "nbconvert_exporter": "python",
   "pygments_lexer": "ipython3",
   "version": "3.11.4"
  }
 },
 "nbformat": 4,
 "nbformat_minor": 5
}
